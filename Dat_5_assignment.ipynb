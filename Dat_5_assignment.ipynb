{
  "nbformat": 4,
  "nbformat_minor": 0,
  "metadata": {
    "colab": {
      "provenance": [],
      "include_colab_link": true
    },
    "kernelspec": {
      "name": "python3",
      "display_name": "Python 3"
    },
    "language_info": {
      "name": "python"
    }
  },
  "cells": [
    {
      "cell_type": "markdown",
      "metadata": {
        "id": "view-in-github",
        "colab_type": "text"
      },
      "source": [
        "<a href=\"https://colab.research.google.com/github/Prashanth-557/AD-assignments/blob/main/Dat_5_assignment.ipynb\" target=\"_parent\"><img src=\"https://colab.research.google.com/assets/colab-badge.svg\" alt=\"Open In Colab\"/></a>"
      ]
    },
    {
      "cell_type": "code",
      "execution_count": null,
      "metadata": {
        "colab": {
          "base_uri": "https://localhost:8080/"
        },
        "id": "GF4e-GpmBRBM",
        "outputId": "409e8309-9d4c-4a75-d922-98bdc36fe1ac"
      },
      "outputs": [
        {
          "output_type": "stream",
          "name": "stdout",
          "text": [
            "Enter a positive integer: 4\n",
            "Numbers from 1 to 4 :\n",
            "1\n",
            "2\n",
            "3\n",
            "4\n",
            "The sum of all numbers from 1 to 4 is: 10\n"
          ]
        }
      ],
      "source": [
        "n = int(input(\"Enter a positive integer: \"))\n",
        "\n",
        "print(\"Numbers from 1 to\", n, \":\")\n",
        "for i in range(1, n + 1):\n",
        "    print(i)\n",
        "\n",
        "sum_numbers = 0\n",
        "counter = 1\n",
        "while counter <= n:\n",
        "    sum_numbers += counter\n",
        "    counter += 1\n",
        "\n",
        "print(\"The sum of all numbers from 1 to\", n, \"is:\", sum_numbers)\n"
      ]
    },
    {
      "cell_type": "code",
      "source": [
        "def calculate_square(n):\n",
        "    return n ** 2\n",
        "\n",
        "number = int(input(\"Enter a positive integer: \"))\n",
        "\n",
        "square = calculate_square(number)\n",
        "print(f\"The square of {number} is: {square}\")\n"
      ],
      "metadata": {
        "colab": {
          "base_uri": "https://localhost:8080/"
        },
        "id": "D9eStpClBpvz",
        "outputId": "e306a050-5ce9-4ed6-ec42-b180cade86d4"
      },
      "execution_count": null,
      "outputs": [
        {
          "output_type": "stream",
          "name": "stdout",
          "text": [
            "Enter a positive integer: 2\n",
            "The square of 2 is: 4\n"
          ]
        }
      ]
    }
  ]
}