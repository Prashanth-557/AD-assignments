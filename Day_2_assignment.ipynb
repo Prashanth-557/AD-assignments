{
  "nbformat": 4,
  "nbformat_minor": 0,
  "metadata": {
    "colab": {
      "provenance": [],
      "include_colab_link": true
    },
    "kernelspec": {
      "name": "python3",
      "display_name": "Python 3"
    },
    "language_info": {
      "name": "python"
    }
  },
  "cells": [
    {
      "cell_type": "markdown",
      "metadata": {
        "id": "view-in-github",
        "colab_type": "text"
      },
      "source": [
        "<a href=\"https://colab.research.google.com/github/Prashanth-557/AD-assignments/blob/main/Day_2_assignment.ipynb\" target=\"_parent\"><img src=\"https://colab.research.google.com/assets/colab-badge.svg\" alt=\"Open In Colab\"/></a>"
      ]
    },
    {
      "cell_type": "code",
      "execution_count": null,
      "metadata": {
        "colab": {
          "base_uri": "https://localhost:8080/"
        },
        "id": "cD_XHfbw_UCv",
        "outputId": "61eb0aee-7d76-4ca4-fbd6-21e8f44371bd"
      },
      "outputs": [
        {
          "output_type": "stream",
          "name": "stdout",
          "text": [
            "List Element at Index 0: 10\n",
            "List Element at Index 3: 40\n",
            "Slice List [1:4]: [20, 30, 40]\n",
            "Tuple Element at Index 1: banana\n",
            "Tuple Element at Index -1: elderberry\n",
            "Slice Tuple [2:]: ('cherry', 'date', 'elderberry')\n",
            "Dictionary Value for Key 'name': Alice\n",
            "Dictionary Value for Key 'hobby': painting\n",
            "Dictionary Value for Key 'age' (using get): 25\n",
            "Dictionary Value for a non-existent key (using get): Not Found\n"
          ]
        }
      ],
      "source": [
        "my_list = [10, 20, 30, 40, 50]\n",
        "my_tuple = ('apple', 'banana', 'cherry', 'date', 'elderberry')\n",
        "my_dict = {'name': 'Alice', 'age': 25, 'city': 'New York', 'country': 'USA', 'hobby': 'painting'}\n",
        "\n",
        "print(\"List Element at Index 0:\", my_list[0])\n",
        "print(\"List Element at Index 3:\", my_list[3])\n",
        "print(\"Slice List [1:4]:\", my_list[1:4])\n",
        "\n",
        "\n",
        "print(\"Tuple Element at Index 1:\", my_tuple[1])\n",
        "print(\"Tuple Element at Index -1:\", my_tuple[-1])\n",
        "print(\"Slice Tuple [2:]:\", my_tuple[2:])\n",
        "y\n",
        "print(\"Dictionary Value for Key 'name':\", my_dict['name'])\n",
        "print(\"Dictionary Value for Key 'hobby':\", my_dict['hobby'])\n",
        "\n",
        "\n",
        "print(\"Dictionary Value for Key 'age' (using get):\", my_dict.get('age'))\n",
        "print(\"Dictionary Value for a non-existent key (using get):\", my_dict.get('non_existent', 'Not Found'))\n"
      ]
    }
  ]
}